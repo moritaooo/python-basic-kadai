{
  "nbformat": 4,
  "nbformat_minor": 0,
  "metadata": {
    "colab": {
      "provenance": []
    },
    "kernelspec": {
      "name": "python3",
      "display_name": "Python 3"
    },
    "language_info": {
      "name": "python"
    }
  },
  "cells": [
    {
      "cell_type": "code",
      "execution_count": 5,
      "metadata": {
        "colab": {
          "base_uri": "https://localhost:8080/"
        },
        "id": "CdWK1g6dlZd6",
        "outputId": "e2b7ff7c-c778-4205-d2a6-abcd480c40cd"
      },
      "outputs": [
        {
          "output_type": "stream",
          "name": "stdout",
          "text": [
            "大人\n",
            "大人ではない\n",
            "大人\n"
          ]
        }
      ],
      "source": [
        "class Human:\n",
        "    def __init__(self, name, age):\n",
        "        self.name = name\n",
        "        self.age = age\n",
        "\n",
        "    def check_adult(self):\n",
        "        if self.age >= 20:\n",
        "            print(\"大人\")\n",
        "        else:\n",
        "            print(\"大人ではない\")\n",
        "\n",
        "taro = Human(\"太郎\", 30)\n",
        "hanako = Human(\"花子\", 16)\n",
        "jiro = Human(\"二郎\", 20)\n",
        "\n",
        "human_list= [taro, hanako, jiro]\n",
        "\n",
        "for i in human_list:\n",
        "    i.check_adult()"
      ]
    },
    {
      "cell_type": "code",
      "source": [],
      "metadata": {
        "id": "OoI3Y9CCmxhE"
      },
      "execution_count": null,
      "outputs": []
    }
  ]
}
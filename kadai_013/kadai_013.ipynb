{
  "nbformat": 4,
  "nbformat_minor": 0,
  "metadata": {
    "colab": {
      "provenance": []
    },
    "kernelspec": {
      "name": "python3",
      "display_name": "Python 3"
    },
    "language_info": {
      "name": "python"
    }
  },
  "cells": [
    {
      "cell_type": "code",
      "execution_count": 5,
      "metadata": {
        "colab": {
          "base_uri": "https://localhost:8080/"
        },
        "id": "Re9FYPRge-62",
        "outputId": "15c15198-5eb9-4b2f-a8b0-5e20b03bb4bf"
      },
      "outputs": [
        {
          "output_type": "stream",
          "name": "stdout",
          "text": [
            "税込：1320.0円\n"
          ]
        }
      ],
      "source": [
        "def calculate_total(price, tax_rate):\n",
        "    total = price * (1 + tax_rate)\n",
        "    return total\n",
        "\n",
        "price = 1200\n",
        "tax_rate = 0.1\n",
        "\n",
        "total = calculate_total(price, tax_rate)\n",
        "print(f\"税込：{total}円\")"
      ]
    },
    {
      "cell_type": "code",
      "source": [],
      "metadata": {
        "id": "Ofnexv0chTvY"
      },
      "execution_count": null,
      "outputs": []
    }
  ]
}
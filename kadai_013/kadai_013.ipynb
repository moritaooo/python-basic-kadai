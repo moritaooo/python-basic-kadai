{
  "nbformat": 4,
  "nbformat_minor": 0,
  "metadata": {
    "colab": {
      "provenance": []
    },
    "kernelspec": {
      "name": "python3",
      "display_name": "Python 3"
    },
    "language_info": {
      "name": "python"
    }
  },
  "cells": [
    {
      "cell_type": "code",
      "execution_count": 2,
      "metadata": {
        "colab": {
          "base_uri": "https://localhost:8080/"
        },
        "id": "Re9FYPRge-62",
        "outputId": "e6cec486-f133-4f4f-b482-ae96f96bd695"
      },
      "outputs": [
        {
          "output_type": "stream",
          "name": "stdout",
          "text": [
            "1320.0\n"
          ]
        }
      ],
      "source": [
        "def calculate_total(price, tax_rate):\n",
        "    total = price + (price * tax_rate)\n",
        "    print(total)\n",
        "\n",
        "price = 1200\n",
        "tax_rate = 0.1\n",
        "\n",
        "calculate_total(price, tax_rate)"
      ]
    },
    {
      "cell_type": "code",
      "source": [],
      "metadata": {
        "id": "Ofnexv0chTvY"
      },
      "execution_count": null,
      "outputs": []
    }
  ]
}